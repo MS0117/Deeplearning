{
  "nbformat": 4,
  "nbformat_minor": 0,
  "metadata": {
    "colab": {
      "name": "MSE.ipynb",
      "provenance": [],
      "collapsed_sections": []
    },
    "kernelspec": {
      "name": "python3",
      "display_name": "Python 3"
    },
    "language_info": {
      "name": "python"
    }
  },
  "cells": [
    {
      "cell_type": "code",
      "metadata": {
        "colab": {
          "base_uri": "https://localhost:8080/"
        },
        "id": "E615e3H7t8h8",
        "outputId": "72ac2954-88a3-424b-8ae8-e12bf3906bc1"
      },
      "source": [
        "import numpy as np\n",
        "from scipy.optimize import minimize\n",
        "\n",
        "# There are two PARTs in this code that you need to complete\n",
        "\n",
        "# Mean Square Error function\n",
        "def MSE(x, A, b):\n",
        "    # parameter:\n",
        "    # x: vector with shape (n,)\n",
        "    # A: matrix with shape (m,n)\n",
        "    # b: vector with shape (m,)\n",
        "    ##############################\n",
        "    # PART 1: completing MSE function\n",
        "    ##############################\n",
        "    # You need to fill in here.\n",
        "    # Your function must return the MSE between Ax and b\n",
        "    \n",
        "    x_pred=A@x\n",
        "    obj= ((x_pred-b)**2).mean()\n",
        "    return obj\n",
        "\n",
        "# size of matrix A (m by n) and b (m by 1)\n",
        "m = 1000\n",
        "n = 10\n",
        "\n",
        "# for random generation of data points\n",
        "mu = 0\n",
        "sig = 1\n",
        "\n",
        "mu_noise = 0\n",
        "sig_noise = 0.1\n",
        "\n",
        "# true parameter vector\n",
        "x_true = np.random.normal(mu, sig, n) #np.random.normal(mu,sig,n)는 평균이 mu, 표준편차가 sig인 n개의 샘플을 만들어준다.\n",
        "\n",
        "# create matrices for least squares function\n",
        "A = np.c_[np.ones((m, 1)), np.random.normal(mu, sig, (m, n - 1))] #np.c_는 가로로 합치는 것, np.r_이 세로로 합치는 것\n",
        "b = A @ x_true + np.random.normal(mu_noise, sig_noise, m)\n",
        "\n",
        "# initial point for minimize function\n",
        "x0 = np.random.normal(mu, sig, n)\n",
        "\n",
        "##############################\n",
        "# PART 2: Finding estimate using minimize function\n",
        "##############################\n",
        "# use minimize function to find the best parameter estimate\n",
        "# you need to properly use minimize function below\n",
        "estim = minimize(MSE,x0,args=(A,b))\n",
        "\n",
        "print('solution from minimize:', estim.x)\n",
        "print('true x', x_true)\n",
        "\n",
        "# show error between true x and your estimate\n",
        "print('error percentage:', np.linalg.norm(x_true - estim.x) / np.linalg.norm(x_true) * 100, '%')\n",
        "\n",
        "\n"
      ],
      "execution_count": null,
      "outputs": [
        {
          "output_type": "stream",
          "name": "stdout",
          "text": [
            "solution from minimize: [-0.85516468 -0.24487376 -0.33815108  0.89783052  0.81783642 -0.00672811\n",
            " -0.20376487 -1.11511431  0.47123011 -2.34551402]\n",
            "true x [-8.54716919e-01 -2.48717477e-01 -3.33700545e-01  8.97121341e-01\n",
            "  8.07770560e-01 -1.61045540e-03 -2.00376766e-01 -1.11324592e+00\n",
            "  4.65223330e-01 -2.34107092e+00]\n",
            "error percentage: 0.5001600787724698 %\n"
          ]
        }
      ]
    }
  ]
}